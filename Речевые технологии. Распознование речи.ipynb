{
  "nbformat": 4,
  "nbformat_minor": 0,
  "metadata": {
    "colab": {
      "provenance": []
    },
    "kernelspec": {
      "name": "python3",
      "display_name": "Python 3"
    },
    "language_info": {
      "name": "python"
    }
  },
  "cells": [
    {
      "cell_type": "code",
      "source": [
        "# Установка необходимых библиотек\n",
        "!apt install libasound2-dev portaudio19-dev libportaudio2 libportaudiocpp0\n",
        "!pip install pyaudio"
      ],
      "metadata": {
        "colab": {
          "base_uri": "https://localhost:8080/"
        },
        "id": "O6AnA-E6xr-I",
        "outputId": "655c365e-7e81-4f67-f395-a191aed563cd"
      },
      "execution_count": null,
      "outputs": [
        {
          "output_type": "stream",
          "name": "stdout",
          "text": [
            "Reading package lists... Done\n",
            "Building dependency tree... Done\n",
            "Reading state information... Done\n",
            "libasound2-dev is already the newest version (1.2.6.1-1ubuntu1).\n",
            "Suggested packages:\n",
            "  portaudio19-doc\n",
            "The following NEW packages will be installed:\n",
            "  libportaudio2 libportaudiocpp0 portaudio19-dev\n",
            "0 upgraded, 3 newly installed, 0 to remove and 49 not upgraded.\n",
            "Need to get 188 kB of archives.\n",
            "After this operation, 927 kB of additional disk space will be used.\n",
            "Get:1 http://archive.ubuntu.com/ubuntu jammy/universe amd64 libportaudio2 amd64 19.6.0-1.1 [65.3 kB]\n",
            "Get:2 http://archive.ubuntu.com/ubuntu jammy/universe amd64 libportaudiocpp0 amd64 19.6.0-1.1 [16.1 kB]\n",
            "Get:3 http://archive.ubuntu.com/ubuntu jammy/universe amd64 portaudio19-dev amd64 19.6.0-1.1 [106 kB]\n",
            "Fetched 188 kB in 0s (1,023 kB/s)\n",
            "Selecting previously unselected package libportaudio2:amd64.\n",
            "(Reading database ... 123634 files and directories currently installed.)\n",
            "Preparing to unpack .../libportaudio2_19.6.0-1.1_amd64.deb ...\n",
            "Unpacking libportaudio2:amd64 (19.6.0-1.1) ...\n",
            "Selecting previously unselected package libportaudiocpp0:amd64.\n",
            "Preparing to unpack .../libportaudiocpp0_19.6.0-1.1_amd64.deb ...\n",
            "Unpacking libportaudiocpp0:amd64 (19.6.0-1.1) ...\n",
            "Selecting previously unselected package portaudio19-dev:amd64.\n",
            "Preparing to unpack .../portaudio19-dev_19.6.0-1.1_amd64.deb ...\n",
            "Unpacking portaudio19-dev:amd64 (19.6.0-1.1) ...\n",
            "Setting up libportaudio2:amd64 (19.6.0-1.1) ...\n",
            "Setting up libportaudiocpp0:amd64 (19.6.0-1.1) ...\n",
            "Setting up portaudio19-dev:amd64 (19.6.0-1.1) ...\n",
            "Processing triggers for libc-bin (2.35-0ubuntu3.4) ...\n",
            "/sbin/ldconfig.real: /usr/local/lib/libtbbbind_2_0.so.3 is not a symbolic link\n",
            "\n",
            "/sbin/ldconfig.real: /usr/local/lib/libtcm.so.1 is not a symbolic link\n",
            "\n",
            "/sbin/ldconfig.real: /usr/local/lib/libtbbbind_2_5.so.3 is not a symbolic link\n",
            "\n",
            "/sbin/ldconfig.real: /usr/local/lib/libtbbmalloc.so.2 is not a symbolic link\n",
            "\n",
            "/sbin/ldconfig.real: /usr/local/lib/libhwloc.so.15 is not a symbolic link\n",
            "\n",
            "/sbin/ldconfig.real: /usr/local/lib/libur_adapter_opencl.so.0 is not a symbolic link\n",
            "\n",
            "/sbin/ldconfig.real: /usr/local/lib/libur_adapter_level_zero.so.0 is not a symbolic link\n",
            "\n",
            "/sbin/ldconfig.real: /usr/local/lib/libtcm_debug.so.1 is not a symbolic link\n",
            "\n",
            "/sbin/ldconfig.real: /usr/local/lib/libtbbmalloc_proxy.so.2 is not a symbolic link\n",
            "\n",
            "/sbin/ldconfig.real: /usr/local/lib/libtbbbind.so.3 is not a symbolic link\n",
            "\n",
            "/sbin/ldconfig.real: /usr/local/lib/libtbb.so.12 is not a symbolic link\n",
            "\n",
            "/sbin/ldconfig.real: /usr/local/lib/libur_loader.so.0 is not a symbolic link\n",
            "\n",
            "/sbin/ldconfig.real: /usr/local/lib/libumf.so.0 is not a symbolic link\n",
            "\n",
            "Collecting pyaudio\n",
            "  Downloading PyAudio-0.2.14.tar.gz (47 kB)\n",
            "\u001b[2K     \u001b[90m━━━━━━━━━━━━━━━━━━━━━━━━━━━━━━━━━━━━━━━━\u001b[0m \u001b[32m47.1/47.1 kB\u001b[0m \u001b[31m2.1 MB/s\u001b[0m eta \u001b[36m0:00:00\u001b[0m\n",
            "\u001b[?25h  Installing build dependencies ... \u001b[?25l\u001b[?25hdone\n",
            "  Getting requirements to build wheel ... \u001b[?25l\u001b[?25hdone\n",
            "  Preparing metadata (pyproject.toml) ... \u001b[?25l\u001b[?25hdone\n",
            "Building wheels for collected packages: pyaudio\n",
            "  Building wheel for pyaudio (pyproject.toml) ... \u001b[?25l\u001b[?25hdone\n",
            "  Created wheel for pyaudio: filename=PyAudio-0.2.14-cp310-cp310-linux_x86_64.whl size=63860 sha256=c56e030a13f622fbfac64f7359478d6fa06f1f02e517a336823b233014638e35\n",
            "  Stored in directory: /root/.cache/pip/wheels/d6/21/f4/0b51d41ba79e51b16295cbb096ec49f334792814d545b508c5\n",
            "Successfully built pyaudio\n",
            "Installing collected packages: pyaudio\n",
            "Successfully installed pyaudio-0.2.14\n"
          ]
        }
      ]
    },
    {
      "cell_type": "code",
      "source": [
        "import pyaudio\n",
        "print(\"PyAudio установлена успешно!\")"
      ],
      "metadata": {
        "colab": {
          "base_uri": "https://localhost:8080/"
        },
        "id": "D3ohmmBXx0Yh",
        "outputId": "694a594f-6bbc-42ec-a803-bf190fac12e3"
      },
      "execution_count": null,
      "outputs": [
        {
          "output_type": "stream",
          "name": "stdout",
          "text": [
            "PyAudio установлена успешно!\n"
          ]
        }
      ]
    },
    {
      "cell_type": "code",
      "source": [
        "import speech_recognition as sr"
      ],
      "metadata": {
        "id": "ij7oHdv7yQ6W"
      },
      "execution_count": null,
      "outputs": []
    },
    {
      "cell_type": "code",
      "source": [
        "from google.colab import files\n",
        "\n",
        "# Загружаем файл, который самостоятелньо записан голосом с командами\n",
        "uploaded = files.upload()"
      ],
      "metadata": {
        "colab": {
          "base_uri": "https://localhost:8080/",
          "height": 73
        },
        "id": "iAMg0Iv8yWrz",
        "outputId": "3660c0cf-e4ef-4c38-c242-242df2741ce7"
      },
      "execution_count": null,
      "outputs": [
        {
          "output_type": "display_data",
          "data": {
            "text/plain": [
              "<IPython.core.display.HTML object>"
            ],
            "text/html": [
              "\n",
              "     <input type=\"file\" id=\"files-4f454c47-66ec-4db0-aae2-ea34041ef5cf\" name=\"files[]\" multiple disabled\n",
              "        style=\"border:none\" />\n",
              "     <output id=\"result-4f454c47-66ec-4db0-aae2-ea34041ef5cf\">\n",
              "      Upload widget is only available when the cell has been executed in the\n",
              "      current browser session. Please rerun this cell to enable.\n",
              "      </output>\n",
              "      <script>// Copyright 2017 Google LLC\n",
              "//\n",
              "// Licensed under the Apache License, Version 2.0 (the \"License\");\n",
              "// you may not use this file except in compliance with the License.\n",
              "// You may obtain a copy of the License at\n",
              "//\n",
              "//      http://www.apache.org/licenses/LICENSE-2.0\n",
              "//\n",
              "// Unless required by applicable law or agreed to in writing, software\n",
              "// distributed under the License is distributed on an \"AS IS\" BASIS,\n",
              "// WITHOUT WARRANTIES OR CONDITIONS OF ANY KIND, either express or implied.\n",
              "// See the License for the specific language governing permissions and\n",
              "// limitations under the License.\n",
              "\n",
              "/**\n",
              " * @fileoverview Helpers for google.colab Python module.\n",
              " */\n",
              "(function(scope) {\n",
              "function span(text, styleAttributes = {}) {\n",
              "  const element = document.createElement('span');\n",
              "  element.textContent = text;\n",
              "  for (const key of Object.keys(styleAttributes)) {\n",
              "    element.style[key] = styleAttributes[key];\n",
              "  }\n",
              "  return element;\n",
              "}\n",
              "\n",
              "// Max number of bytes which will be uploaded at a time.\n",
              "const MAX_PAYLOAD_SIZE = 100 * 1024;\n",
              "\n",
              "function _uploadFiles(inputId, outputId) {\n",
              "  const steps = uploadFilesStep(inputId, outputId);\n",
              "  const outputElement = document.getElementById(outputId);\n",
              "  // Cache steps on the outputElement to make it available for the next call\n",
              "  // to uploadFilesContinue from Python.\n",
              "  outputElement.steps = steps;\n",
              "\n",
              "  return _uploadFilesContinue(outputId);\n",
              "}\n",
              "\n",
              "// This is roughly an async generator (not supported in the browser yet),\n",
              "// where there are multiple asynchronous steps and the Python side is going\n",
              "// to poll for completion of each step.\n",
              "// This uses a Promise to block the python side on completion of each step,\n",
              "// then passes the result of the previous step as the input to the next step.\n",
              "function _uploadFilesContinue(outputId) {\n",
              "  const outputElement = document.getElementById(outputId);\n",
              "  const steps = outputElement.steps;\n",
              "\n",
              "  const next = steps.next(outputElement.lastPromiseValue);\n",
              "  return Promise.resolve(next.value.promise).then((value) => {\n",
              "    // Cache the last promise value to make it available to the next\n",
              "    // step of the generator.\n",
              "    outputElement.lastPromiseValue = value;\n",
              "    return next.value.response;\n",
              "  });\n",
              "}\n",
              "\n",
              "/**\n",
              " * Generator function which is called between each async step of the upload\n",
              " * process.\n",
              " * @param {string} inputId Element ID of the input file picker element.\n",
              " * @param {string} outputId Element ID of the output display.\n",
              " * @return {!Iterable<!Object>} Iterable of next steps.\n",
              " */\n",
              "function* uploadFilesStep(inputId, outputId) {\n",
              "  const inputElement = document.getElementById(inputId);\n",
              "  inputElement.disabled = false;\n",
              "\n",
              "  const outputElement = document.getElementById(outputId);\n",
              "  outputElement.innerHTML = '';\n",
              "\n",
              "  const pickedPromise = new Promise((resolve) => {\n",
              "    inputElement.addEventListener('change', (e) => {\n",
              "      resolve(e.target.files);\n",
              "    });\n",
              "  });\n",
              "\n",
              "  const cancel = document.createElement('button');\n",
              "  inputElement.parentElement.appendChild(cancel);\n",
              "  cancel.textContent = 'Cancel upload';\n",
              "  const cancelPromise = new Promise((resolve) => {\n",
              "    cancel.onclick = () => {\n",
              "      resolve(null);\n",
              "    };\n",
              "  });\n",
              "\n",
              "  // Wait for the user to pick the files.\n",
              "  const files = yield {\n",
              "    promise: Promise.race([pickedPromise, cancelPromise]),\n",
              "    response: {\n",
              "      action: 'starting',\n",
              "    }\n",
              "  };\n",
              "\n",
              "  cancel.remove();\n",
              "\n",
              "  // Disable the input element since further picks are not allowed.\n",
              "  inputElement.disabled = true;\n",
              "\n",
              "  if (!files) {\n",
              "    return {\n",
              "      response: {\n",
              "        action: 'complete',\n",
              "      }\n",
              "    };\n",
              "  }\n",
              "\n",
              "  for (const file of files) {\n",
              "    const li = document.createElement('li');\n",
              "    li.append(span(file.name, {fontWeight: 'bold'}));\n",
              "    li.append(span(\n",
              "        `(${file.type || 'n/a'}) - ${file.size} bytes, ` +\n",
              "        `last modified: ${\n",
              "            file.lastModifiedDate ? file.lastModifiedDate.toLocaleDateString() :\n",
              "                                    'n/a'} - `));\n",
              "    const percent = span('0% done');\n",
              "    li.appendChild(percent);\n",
              "\n",
              "    outputElement.appendChild(li);\n",
              "\n",
              "    const fileDataPromise = new Promise((resolve) => {\n",
              "      const reader = new FileReader();\n",
              "      reader.onload = (e) => {\n",
              "        resolve(e.target.result);\n",
              "      };\n",
              "      reader.readAsArrayBuffer(file);\n",
              "    });\n",
              "    // Wait for the data to be ready.\n",
              "    let fileData = yield {\n",
              "      promise: fileDataPromise,\n",
              "      response: {\n",
              "        action: 'continue',\n",
              "      }\n",
              "    };\n",
              "\n",
              "    // Use a chunked sending to avoid message size limits. See b/62115660.\n",
              "    let position = 0;\n",
              "    do {\n",
              "      const length = Math.min(fileData.byteLength - position, MAX_PAYLOAD_SIZE);\n",
              "      const chunk = new Uint8Array(fileData, position, length);\n",
              "      position += length;\n",
              "\n",
              "      const base64 = btoa(String.fromCharCode.apply(null, chunk));\n",
              "      yield {\n",
              "        response: {\n",
              "          action: 'append',\n",
              "          file: file.name,\n",
              "          data: base64,\n",
              "        },\n",
              "      };\n",
              "\n",
              "      let percentDone = fileData.byteLength === 0 ?\n",
              "          100 :\n",
              "          Math.round((position / fileData.byteLength) * 100);\n",
              "      percent.textContent = `${percentDone}% done`;\n",
              "\n",
              "    } while (position < fileData.byteLength);\n",
              "  }\n",
              "\n",
              "  // All done.\n",
              "  yield {\n",
              "    response: {\n",
              "      action: 'complete',\n",
              "    }\n",
              "  };\n",
              "}\n",
              "\n",
              "scope.google = scope.google || {};\n",
              "scope.google.colab = scope.google.colab || {};\n",
              "scope.google.colab._files = {\n",
              "  _uploadFiles,\n",
              "  _uploadFilesContinue,\n",
              "};\n",
              "})(self);\n",
              "</script> "
            ]
          },
          "metadata": {}
        },
        {
          "output_type": "stream",
          "name": "stdout",
          "text": [
            "Saving Record (online-voice-recorder.com).mp3 to Record (online-voice-recorder.com).mp3\n"
          ]
        }
      ]
    },
    {
      "cell_type": "code",
      "source": [
        "!pip install pydub"
      ],
      "metadata": {
        "colab": {
          "base_uri": "https://localhost:8080/"
        },
        "id": "aKoisnSTywxF",
        "outputId": "99246406-9cee-40bb-c4a0-1372bac9d998"
      },
      "execution_count": null,
      "outputs": [
        {
          "output_type": "stream",
          "name": "stdout",
          "text": [
            "Collecting pydub\n",
            "  Downloading pydub-0.25.1-py2.py3-none-any.whl.metadata (1.4 kB)\n",
            "Downloading pydub-0.25.1-py2.py3-none-any.whl (32 kB)\n",
            "Installing collected packages: pydub\n",
            "Successfully installed pydub-0.25.1\n"
          ]
        }
      ]
    },
    {
      "cell_type": "code",
      "source": [
        "from pydub import AudioSegment\n",
        "\n",
        "# Имя загруженного файла\n",
        "mp3_file_name = \"Record (online-voice-recorder.com).mp3\"\n",
        "\n",
        "# Загружаем .mp3 файл\n",
        "audio = AudioSegment.from_mp3(mp3_file_name)\n",
        "\n",
        "# Сохраняем его как .wav\n",
        "wav_file_name = mp3_file_name.replace(\".mp3\", \".wav\")\n",
        "audio.export(wav_file_name, format=\"wav\")\n",
        "\n",
        "print(f\"Файл сохранен как: {wav_file_name}\")"
      ],
      "metadata": {
        "colab": {
          "base_uri": "https://localhost:8080/"
        },
        "id": "pttaVHb8zIzd",
        "outputId": "6f471837-4930-4a8f-eec5-4e4ab5c590e5"
      },
      "execution_count": null,
      "outputs": [
        {
          "output_type": "stream",
          "name": "stdout",
          "text": [
            "Файл сохранен как: Record (online-voice-recorder.com).wav\n"
          ]
        }
      ]
    },
    {
      "cell_type": "code",
      "source": [
        "import speech_recognition as sr\n",
        "\n",
        "# Создаем объект Recognizer\n",
        "recognizer = sr.Recognizer()\n",
        "\n",
        "# Открываем .wav файл\n",
        "with sr.AudioFile(wav_file_name) as source:\n",
        "    # Записываем аудио из файла\n",
        "    audio = recognizer.record(source)\n",
        "\n",
        "# Распознаем речь\n",
        "try:\n",
        "    text = recognizer.recognize_google(audio, language=\"ru-RU\")\n",
        "    print(f\"Распознанный текст: {text}\")\n",
        "except sr.UnknownValueError:\n",
        "    print(\"Речь не распознана\")\n",
        "except sr.RequestError:\n",
        "    print(\"Ошибка сервиса распознавания речи\")"
      ],
      "metadata": {
        "colab": {
          "base_uri": "https://localhost:8080/"
        },
        "id": "zSGSSx9zzM0e",
        "outputId": "a5969449-a744-49b3-ebb5-8f52dd2940cc"
      },
      "execution_count": null,
      "outputs": [
        {
          "output_type": "stream",
          "name": "stdout",
          "text": [
            "Распознанный текст: Привет Расскажи сказку что ты умеешь пока\n"
          ]
        }
      ]
    },
    {
      "cell_type": "code",
      "source": [
        "# Распознанный текст\n",
        "text = \"Привет Расскажи сказку что ты умеешь пока\"\n",
        "\n",
        "# Приводим текст к нижнему регистру\n",
        "text = text.lower()\n",
        "\n",
        "# Список команд для поиска\n",
        "command_list = [\"привет\", \"расскажи сказку\", \"что ты умеешь\", \"пока\"]\n",
        "\n",
        "# Разделяем текст на команды\n",
        "commands_found = []\n",
        "for command in command_list:\n",
        "    if command in text:\n",
        "        commands_found.append(command)\n",
        "\n",
        "print(f\"Найденные команды: {commands_found}\")"
      ],
      "metadata": {
        "colab": {
          "base_uri": "https://localhost:8080/"
        },
        "id": "YAj6LIPYztWb",
        "outputId": "5ca1f9c3-de71-4479-a312-70af77bbbcd5"
      },
      "execution_count": null,
      "outputs": [
        {
          "output_type": "stream",
          "name": "stdout",
          "text": [
            "Найденные команды: ['привет', 'расскажи сказку', 'что ты умеешь', 'пока']\n"
          ]
        }
      ]
    },
    {
      "cell_type": "code",
      "source": [
        "import random\n",
        "\n",
        "# Словарь команд и ответов\n",
        "commands = {\n",
        "    \"привет\": [\"Привет!\", \"Здравствуйте!\", \"Приветствую!\"],\n",
        "    \"как дела\": [\"Все отлично!\", \"Не bad, а good!\", \"Лучше всех!\"],\n",
        "    \"расскажи сказку\": [\n",
        "        \"Жили-были дед да баба...\",\n",
        "        \"В некотором царстве, в некотором государстве...\",\n",
        "        \"Давным-давно в далекой-далекой галактике...\"\n",
        "    ],\n",
        "    \"что ты умеешь\": [\n",
        "        \"Я могу рассказывать сказки, отвечать на вопросы и просто болтать!\",\n",
        "        \"Я умею распознавать команды и отвечать на них.\"\n",
        "    ],\n",
        "    \"пока\": [\"До свидания!\", \"Пока!\", \"Удачи!\"]\n",
        "}\n",
        "\n",
        "# Обрабатываем каждую команду\n",
        "for command in commands_found:\n",
        "    if command in commands:\n",
        "        response = random.choice(commands[command])\n",
        "        print(f\"Команда: {command}\")\n",
        "        print(f\"Ответ: {response}\")\n",
        "    else:\n",
        "        print(f\"Команда '{command}' не распознана.\")"
      ],
      "metadata": {
        "colab": {
          "base_uri": "https://localhost:8080/"
        },
        "id": "aL7VOSakz05V",
        "outputId": "b6b20a1c-d14c-4c36-c311-d049eb8bd287"
      },
      "execution_count": null,
      "outputs": [
        {
          "output_type": "stream",
          "name": "stdout",
          "text": [
            "Команда: привет\n",
            "Ответ: Приветствую!\n",
            "Команда: расскажи сказку\n",
            "Ответ: Давным-давно в далекой-далекой галактике...\n",
            "Команда: что ты умеешь\n",
            "Ответ: Я могу рассказывать сказки, отвечать на вопросы и просто болтать!\n",
            "Команда: пока\n",
            "Ответ: Удачи!\n"
          ]
        }
      ]
    },
    {
      "cell_type": "code",
      "source": [
        "# Установка eSpeak\n",
        "!apt update\n",
        "!apt install espeak\n",
        "\n",
        "# Импорт библиотек\n",
        "import re\n",
        "import random\n",
        "import time\n",
        "import pyttsx3\n",
        "import matplotlib.pyplot as plt\n",
        "\n",
        "# Распознанный текст\n",
        "text = \"ПриветРасскажисказкучтотыумеешьпока\"\n",
        "\n",
        "# Приводим текст к нижнему регистру\n",
        "text = text.lower()\n",
        "\n",
        "# Регулярное выражение для поиска команд (улучшенное)\n",
        "pattern = r\"(привет|расскажисказку|чтотыумеешь|пока)\"\n",
        "\n",
        "# Ищем команды в тексте\n",
        "commands_found = re.findall(pattern, text)\n",
        "\n",
        "# Словарь команд и ответов\n",
        "commands = {\n",
        "    \"привет\": [\"Привет!\", \"Здравствуйте!\", \"Приветствую!\"],\n",
        "    \"расскажисказку\": [\n",
        "        \"Жили-были дед да баба...\",\n",
        "        \"В некотором царстве, в некотором государстве...\",\n",
        "        \"Давным-давно в далекой-далекой галактике...\"\n",
        "    ],\n",
        "    \"чтотыумеешь\": [\n",
        "        \"Я могу рассказывать сказки, отвечать на вопросы и просто болтать!\",\n",
        "        \"Я умею распознавать команды и отвечать на них.\"\n",
        "    ],\n",
        "    \"пока\": [\"До свидания!\", \"Пока!\", \"Удачи!\"]\n",
        "}\n",
        "\n",
        "# Ожидаемые команды (метки)\n",
        "expected_commands = [\"привет\", \"расскажисказку\", \"чтотыумеешь\", \"пока\"]\n",
        "\n",
        "# Инициализируем движок для синтеза речи\n",
        "engine = pyttsx3.init()\n",
        "\n",
        "# Замеряем время начала\n",
        "start_time = time.time()\n",
        "\n",
        "# Обрабатываем команды\n",
        "for command in commands_found:\n",
        "    if command in commands:\n",
        "        response = random.choice(commands[command])\n",
        "        print(f\"Команда: {command}\")\n",
        "        print(f\"Ответ: {response}\")\n",
        "\n",
        "        # Озвучиваем ответ\n",
        "        engine.say(response)\n",
        "        engine.runAndWait()\n",
        "    else:\n",
        "        print(f\"Команда '{command}' не распознана.\")\n",
        "\n",
        "# Замеряем время окончания\n",
        "end_time = time.time()\n",
        "\n",
        "# Вычисляем время отклика\n",
        "response_time = end_time - start_time\n",
        "print(f\"Время отклика: {response_time:.2f} секунд\")\n",
        "\n",
        "# Считаем точность\n",
        "correct = 0\n",
        "for expected, recognized in zip(expected_commands, commands_found):\n",
        "    if expected == recognized:\n",
        "        correct += 1\n",
        "\n",
        "accuracy = (correct / len(expected_commands)) * 100\n",
        "print(f\"Точность распознавания: {accuracy:.2f}%\")\n",
        "\n",
        "# Визуализация метрик\n",
        "labels = ['Точность', 'Время отклика']\n",
        "values = [accuracy, response_time]\n",
        "\n",
        "plt.figure(figsize=(8, 4))\n",
        "\n",
        "plt.subplot(1, 2, 1)\n",
        "plt.bar(labels[0], values[0], color='green')\n",
        "plt.ylim(0, 100)\n",
        "plt.title('Точность распознавания')\n",
        "plt.ylabel('Точность (%)')\n",
        "\n",
        "plt.subplot(1, 2, 2)\n",
        "plt.bar(labels[1], values[1], color='blue')\n",
        "plt.ylim(0, 5)\n",
        "plt.title('Время отклика')\n",
        "plt.ylabel('Время (секунды)')\n",
        "\n",
        "plt.tight_layout()\n",
        "plt.show()"
      ],
      "metadata": {
        "colab": {
          "base_uri": "https://localhost:8080/",
          "height": 928
        },
        "id": "pbuz4Cvr2Cix",
        "outputId": "ba2b38a6-5db5-40ce-8cb1-01ac2fd38a12"
      },
      "execution_count": null,
      "outputs": [
        {
          "output_type": "stream",
          "name": "stdout",
          "text": [
            "\u001b[33m\r0% [Working]\u001b[0m\r            \rHit:1 http://archive.ubuntu.com/ubuntu jammy InRelease\n",
            "\u001b[33m\r0% [Connecting to security.ubuntu.com (185.125.190.81)] [Connected to cloud.r-project.org (108.139.1\u001b[0m\r                                                                                                    \rHit:2 http://archive.ubuntu.com/ubuntu jammy-updates InRelease\n",
            "\r                                                                                                    \rHit:3 https://cloud.r-project.org/bin/linux/ubuntu jammy-cran40/ InRelease\n",
            "\u001b[33m\r0% [Waiting for headers] [Connecting to security.ubuntu.com (185.125.190.81)] [Connected to r2u.stat\u001b[0m\r                                                                                                    \rHit:4 http://archive.ubuntu.com/ubuntu jammy-backports InRelease\n",
            "\u001b[33m\r0% [Waiting for headers] [Connected to r2u.stat.illinois.edu (192.17.190.167)] [Connected to develop\u001b[0m\r                                                                                                    \rHit:5 https://developer.download.nvidia.com/compute/cuda/repos/ubuntu2204/x86_64  InRelease\n",
            "\u001b[33m\r0% [Waiting for headers] [Waiting for headers] [Connected to ppa.launchpadcontent.net (185.125.190.8\u001b[0m\r                                                                                                    \rHit:6 http://security.ubuntu.com/ubuntu jammy-security InRelease\n",
            "Hit:7 https://r2u.stat.illinois.edu/ubuntu jammy InRelease\n",
            "Hit:8 https://ppa.launchpadcontent.net/deadsnakes/ppa/ubuntu jammy InRelease\n",
            "Hit:9 https://ppa.launchpadcontent.net/graphics-drivers/ppa/ubuntu jammy InRelease\n",
            "Hit:10 https://ppa.launchpadcontent.net/ubuntugis/ppa/ubuntu jammy InRelease\n",
            "Reading package lists... Done\n",
            "Building dependency tree... Done\n",
            "Reading state information... Done\n",
            "54 packages can be upgraded. Run 'apt list --upgradable' to see them.\n",
            "\u001b[1;33mW: \u001b[0mSkipping acquire of configured file 'main/source/Sources' as repository 'https://r2u.stat.illinois.edu/ubuntu jammy InRelease' does not seem to provide it (sources.list entry misspelt?)\u001b[0m\n",
            "Reading package lists... Done\n",
            "Building dependency tree... Done\n",
            "Reading state information... Done\n",
            "espeak is already the newest version (1.48.15+dfsg-3).\n",
            "0 upgraded, 0 newly installed, 0 to remove and 54 not upgraded.\n",
            "Команда: привет\n",
            "Ответ: Здравствуйте!\n",
            "Команда: расскажисказку\n",
            "Ответ: В некотором царстве, в некотором государстве...\n",
            "Команда: чтотыумеешь\n",
            "Ответ: Я умею распознавать команды и отвечать на них.\n",
            "Команда: пока\n",
            "Ответ: Пока!\n",
            "Время отклика: 0.24 секунд\n",
            "Точность распознавания: 100.00%\n"
          ]
        },
        {
          "output_type": "display_data",
          "data": {
            "text/plain": [
              "<Figure size 800x400 with 2 Axes>"
            ],
            "image/png": "[encoded data removed]"
          },
          "metadata": {}
        }
      ]
    }
  ]
}