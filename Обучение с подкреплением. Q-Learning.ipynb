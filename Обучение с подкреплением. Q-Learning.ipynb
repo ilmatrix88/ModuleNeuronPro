{
  "nbformat": 4,
  "nbformat_minor": 0,
  "metadata": {
    "colab": {
      "provenance": []
    },
    "kernelspec": {
      "name": "python3",
      "display_name": "Python 3"
    },
    "language_info": {
      "name": "python"
    }
  },
  "cells": [
    {
      "cell_type": "code",
      "source": [
        "# Установка необходимых библиотек\n",
        "!pip install \"gymnasium[atari]\"\n",
        "!pip install autorom[accept-rom-license]\n",
        "\n",
        "import gymnasium as gym\n",
        "import ale_py\n",
        "import numpy as np\n",
        "import random\n",
        "import time\n",
        "\n",
        "# Регистрация окружения\n",
        "gym.register_envs(ale_py)\n",
        "\n",
        "# Создание окружения для Pac-Man\n",
        "env = gym.make(\"ALE/MsPacman-v5\")\n",
        "\n",
        "# Функция для случайного поиска\n",
        "def random_search_policy(env):\n",
        "    return env.action_space.sample()\n",
        "\n",
        "# Функция для восхождения на вершину\n",
        "def hill_climbing_policy(env, best_actions=None, best_reward=0):\n",
        "    if best_actions is None:\n",
        "        best_actions = [env.action_space.sample() for _ in range(1000)]\n",
        "    total_reward = 0\n",
        "    step_count = 0\n",
        "    env.reset()\n",
        "    for action in best_actions:\n",
        "        _, reward, done, _, _ = env.step(action)\n",
        "        total_reward += reward\n",
        "        step_count += 1\n",
        "        if done:\n",
        "            break\n",
        "    if total_reward > best_reward:\n",
        "        best_reward = total_reward\n",
        "        best_actions = best_actions[:step_count]\n",
        "    else:\n",
        "        best_actions = [env.action_space.sample() for _ in range(1000)]\n",
        "    return best_actions, best_reward\n",
        "\n",
        "# Обучение модели на стратегии случайного поиска\n",
        "total_reward = 0\n",
        "for _ in range(10):\n",
        "    env.reset()\n",
        "    done = False\n",
        "    while not done:\n",
        "        action = random_search_policy(env)\n",
        "        _, reward, done, _, _ = env.step(action)\n",
        "        total_reward += reward\n",
        "print(f\"Суммарное вознаграждение для случайного поиска: {total_reward}\")\n",
        "\n",
        "# Обучение модели на стратегии восхождения на вершину\n",
        "best_actions = None\n",
        "best_reward = 0\n",
        "for _ in range(10):\n",
        "    best_actions, best_reward = hill_climbing_policy(env, best_actions, best_reward)\n",
        "print(f\"Суммарное вознаграждение для восхождения на вершину: {best_reward}\")\n",
        "\n",
        "# Вывод\n",
        "print(\"Вывод:\")\n",
        "if best_reward > total_reward:\n",
        "    print(\"Стратегия восхождения на вершину показала лучшие результаты, чем случайный поиск.\")\n",
        "elif best_reward < total_reward:\n",
        "    print(\"Случайный поиск показал лучшие результаты, чем стратегия восхождения на вершину.\")\n",
        "else:\n",
        "    print(\"Стратегии случайного поиска и восхождения на вершину показали одинаковые результаты.\")"
      ],
      "metadata": {
        "colab": {
          "base_uri": "https://localhost:8080/"
        },
        "id": "NzF-N1ThJXH0",
        "outputId": "fa4211f7-5a0f-4a29-a0ec-98319973a2ae"
      },
      "execution_count": null,
      "outputs": [
        {
          "output_type": "stream",
          "name": "stdout",
          "text": [
            "Requirement already satisfied: gymnasium[atari] in /usr/local/lib/python3.10/dist-packages (1.0.0)\n",
            "Requirement already satisfied: numpy>=1.21.0 in /usr/local/lib/python3.10/dist-packages (from gymnasium[atari]) (1.26.4)\n",
            "Requirement already satisfied: cloudpickle>=1.2.0 in /usr/local/lib/python3.10/dist-packages (from gymnasium[atari]) (3.1.0)\n",
            "Requirement already satisfied: typing-extensions>=4.3.0 in /usr/local/lib/python3.10/dist-packages (from gymnasium[atari]) (4.12.2)\n",
            "Requirement already satisfied: farama-notifications>=0.0.1 in /usr/local/lib/python3.10/dist-packages (from gymnasium[atari]) (0.0.4)\n",
            "Requirement already satisfied: ale-py>=0.9 in /usr/local/lib/python3.10/dist-packages (from gymnasium[atari]) (0.10.1)\n",
            "Requirement already satisfied: autorom[accept-rom-license] in /usr/local/lib/python3.10/dist-packages (0.6.1)\n",
            "Requirement already satisfied: click in /usr/local/lib/python3.10/dist-packages (from autorom[accept-rom-license]) (8.1.7)\n",
            "Requirement already satisfied: requests in /usr/local/lib/python3.10/dist-packages (from autorom[accept-rom-license]) (2.32.3)\n",
            "Requirement already satisfied: AutoROM.accept-rom-license in /usr/local/lib/python3.10/dist-packages (from autorom[accept-rom-license]) (0.6.1)\n",
            "Requirement already satisfied: charset-normalizer<4,>=2 in /usr/local/lib/python3.10/dist-packages (from requests->autorom[accept-rom-license]) (3.4.0)\n",
            "Requirement already satisfied: idna<4,>=2.5 in /usr/local/lib/python3.10/dist-packages (from requests->autorom[accept-rom-license]) (3.10)\n",
            "Requirement already satisfied: urllib3<3,>=1.21.1 in /usr/local/lib/python3.10/dist-packages (from requests->autorom[accept-rom-license]) (2.2.3)\n",
            "Requirement already satisfied: certifi>=2017.4.17 in /usr/local/lib/python3.10/dist-packages (from requests->autorom[accept-rom-license]) (2024.8.30)\n",
            "Суммарное вознаграждение для случайного поиска: 2460.0\n",
            "Суммарное вознаграждение для восхождения на вершину: 610.0\n",
            "Вывод:\n",
            "Случайный поиск показал лучшие результаты, чем стратегия восхождения на вершину.\n"
          ]
        }
      ]
    }
  ]
}